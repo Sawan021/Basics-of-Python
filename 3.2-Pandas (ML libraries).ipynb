{
 "cells": [
  {
   "cell_type": "markdown",
   "metadata": {},
   "source": [
    "# Pandas"
   ]
  },
  {
   "cell_type": "code",
   "execution_count": 5,
   "metadata": {},
   "outputs": [],
   "source": [
    "import pandas as pd   #when we want to create multi-dimensional data i.e rows,columns\n",
    "                      #we use pandas framework"
   ]
  },
  {
   "cell_type": "code",
   "execution_count": 47,
   "metadata": {},
   "outputs": [
    {
     "data": {
      "text/plain": [
       "['a', 'b', 'c', 'd']"
      ]
     },
     "execution_count": 47,
     "metadata": {},
     "output_type": "execute_result"
    }
   ],
   "source": [
    "labels=['a','b','c','d']\n",
    "labels"
   ]
  },
  {
   "cell_type": "code",
   "execution_count": 45,
   "metadata": {},
   "outputs": [
    {
     "data": {
      "text/plain": [
       "[10, 28, 3, 4]"
      ]
     },
     "execution_count": 45,
     "metadata": {},
     "output_type": "execute_result"
    }
   ],
   "source": [
    "list = [10,28,3,4]\n",
    "list"
   ]
  },
  {
   "cell_type": "code",
   "execution_count": 44,
   "metadata": {},
   "outputs": [
    {
     "data": {
      "text/plain": [
       "array([1, 2, 3, 4])"
      ]
     },
     "execution_count": 44,
     "metadata": {},
     "output_type": "execute_result"
    }
   ],
   "source": [
    "import numpy as np\n",
    "array=np.array([1,2,3,4])\n",
    "array"
   ]
  },
  {
   "cell_type": "code",
   "execution_count": 43,
   "metadata": {},
   "outputs": [
    {
     "data": {
      "text/plain": [
       "{'w': 10, 'x': 20, 'y': 30, 'z': 40}"
      ]
     },
     "execution_count": 43,
     "metadata": {},
     "output_type": "execute_result"
    }
   ],
   "source": [
    "dict={'w':10,'x':20,'y':30,'z':40}\n",
    "dict"
   ]
  },
  {
   "cell_type": "code",
   "execution_count": 12,
   "metadata": {},
   "outputs": [
    {
     "data": {
      "text/plain": [
       "0    a\n",
       "1    b\n",
       "2    c\n",
       "3    d\n",
       "dtype: object"
      ]
     },
     "execution_count": 12,
     "metadata": {},
     "output_type": "execute_result"
    }
   ],
   "source": [
    "pd.Series(data=labels)   #  note: S should be capitals"
   ]
  },
  {
   "cell_type": "code",
   "execution_count": 48,
   "metadata": {},
   "outputs": [
    {
     "data": {
      "text/plain": [
       "0    10\n",
       "1    28\n",
       "2     3\n",
       "3     4\n",
       "dtype: int64"
      ]
     },
     "execution_count": 48,
     "metadata": {},
     "output_type": "execute_result"
    }
   ],
   "source": [
    "pd.Series(data=list)"
   ]
  },
  {
   "cell_type": "code",
   "execution_count": 49,
   "metadata": {},
   "outputs": [
    {
     "data": {
      "text/plain": [
       "a    10\n",
       "b    28\n",
       "c     3\n",
       "d     4\n",
       "dtype: int64"
      ]
     },
     "execution_count": 49,
     "metadata": {},
     "output_type": "execute_result"
    }
   ],
   "source": [
    "pd.Series(data=list,index=labels)"
   ]
  },
  {
   "cell_type": "code",
   "execution_count": 50,
   "metadata": {
    "scrolled": true
   },
   "outputs": [
    {
     "data": {
      "text/plain": [
       "10    a\n",
       "28    b\n",
       "3     c\n",
       "4     d\n",
       "dtype: object"
      ]
     },
     "execution_count": 50,
     "metadata": {},
     "output_type": "execute_result"
    }
   ],
   "source": [
    "pd.Series(labels,list)  #first command becomes data values, second becomes index"
   ]
  },
  {
   "cell_type": "code",
   "execution_count": 51,
   "metadata": {},
   "outputs": [
    {
     "data": {
      "text/plain": [
       "w    10\n",
       "x    20\n",
       "y    30\n",
       "z    40\n",
       "dtype: int64"
      ]
     },
     "execution_count": 51,
     "metadata": {},
     "output_type": "execute_result"
    }
   ],
   "source": [
    "pd.Series(dict)"
   ]
  },
  {
   "cell_type": "code",
   "execution_count": null,
   "metadata": {},
   "outputs": [],
   "source": [
    "import pandas as pd"
   ]
  },
  {
   "cell_type": "code",
   "execution_count": 53,
   "metadata": {},
   "outputs": [
    {
     "data": {
      "text/html": [
       "<div>\n",
       "<style scoped>\n",
       "    .dataframe tbody tr th:only-of-type {\n",
       "        vertical-align: middle;\n",
       "    }\n",
       "\n",
       "    .dataframe tbody tr th {\n",
       "        vertical-align: top;\n",
       "    }\n",
       "\n",
       "    .dataframe thead th {\n",
       "        text-align: right;\n",
       "    }\n",
       "</style>\n",
       "<table border=\"1\" class=\"dataframe\">\n",
       "  <thead>\n",
       "    <tr style=\"text-align: right;\">\n",
       "      <th></th>\n",
       "      <th>user_id|age|gender|occupation|zip_code</th>\n",
       "    </tr>\n",
       "  </thead>\n",
       "  <tbody>\n",
       "    <tr>\n",
       "      <th>0</th>\n",
       "      <td>1|24|M|technician|85711</td>\n",
       "    </tr>\n",
       "    <tr>\n",
       "      <th>1</th>\n",
       "      <td>2|53|F|other|94043</td>\n",
       "    </tr>\n",
       "    <tr>\n",
       "      <th>2</th>\n",
       "      <td>3|23|M|writer|32067</td>\n",
       "    </tr>\n",
       "    <tr>\n",
       "      <th>3</th>\n",
       "      <td>4|24|M|technician|43537</td>\n",
       "    </tr>\n",
       "    <tr>\n",
       "      <th>4</th>\n",
       "      <td>5|33|F|other|15213</td>\n",
       "    </tr>\n",
       "    <tr>\n",
       "      <th>...</th>\n",
       "      <td>...</td>\n",
       "    </tr>\n",
       "    <tr>\n",
       "      <th>938</th>\n",
       "      <td>939|26|F|student|33319</td>\n",
       "    </tr>\n",
       "    <tr>\n",
       "      <th>939</th>\n",
       "      <td>940|32|M|administrator|02215</td>\n",
       "    </tr>\n",
       "    <tr>\n",
       "      <th>940</th>\n",
       "      <td>941|20|M|student|97229</td>\n",
       "    </tr>\n",
       "    <tr>\n",
       "      <th>941</th>\n",
       "      <td>942|48|F|librarian|78209</td>\n",
       "    </tr>\n",
       "    <tr>\n",
       "      <th>942</th>\n",
       "      <td>943|22|M|student|77841</td>\n",
       "    </tr>\n",
       "  </tbody>\n",
       "</table>\n",
       "<p>943 rows × 1 columns</p>\n",
       "</div>"
      ],
      "text/plain": [
       "    user_id|age|gender|occupation|zip_code\n",
       "0                  1|24|M|technician|85711\n",
       "1                       2|53|F|other|94043\n",
       "2                      3|23|M|writer|32067\n",
       "3                  4|24|M|technician|43537\n",
       "4                       5|33|F|other|15213\n",
       "..                                     ...\n",
       "938                 939|26|F|student|33319\n",
       "939           940|32|M|administrator|02215\n",
       "940                 941|20|M|student|97229\n",
       "941               942|48|F|librarian|78209\n",
       "942                 943|22|M|student|77841\n",
       "\n",
       "[943 rows x 1 columns]"
      ]
     },
     "execution_count": 53,
     "metadata": {},
     "output_type": "execute_result"
    }
   ],
   "source": [
    "df=pd.read_csv(\"Ex-1 occupation.csv\")\n",
    "df"
   ]
  },
  {
   "cell_type": "markdown",
   "metadata": {},
   "source": [
    "### Pandas Dataframe and indexing"
   ]
  },
  {
   "cell_type": "code",
   "execution_count": 18,
   "metadata": {},
   "outputs": [
    {
     "data": {
      "text/plain": [
       "cricket       1\n",
       "football      2\n",
       "basketball    3\n",
       "golf          4\n",
       "dtype: int64"
      ]
     },
     "execution_count": 18,
     "metadata": {},
     "output_type": "execute_result"
    }
   ],
   "source": [
    "sports1=pd.Series([1,2,3,4],index=['cricket','football','basketball','golf'])\n",
    "sports1"
   ]
  },
  {
   "cell_type": "code",
   "execution_count": 19,
   "metadata": {},
   "outputs": [
    {
     "data": {
      "text/plain": [
       "3"
      ]
     },
     "execution_count": 19,
     "metadata": {},
     "output_type": "execute_result"
    }
   ],
   "source": [
    "sports1['basketball']  #here basketball is index & data value is 3\n",
    "                       # for slicing & indexing [ ] are used not parenthesis"
   ]
  },
  {
   "cell_type": "code",
   "execution_count": 23,
   "metadata": {},
   "outputs": [
    {
     "data": {
      "text/plain": [
       "cricket     11\n",
       "football    13\n",
       "baseball    12\n",
       "golf         4\n",
       "dtype: int64"
      ]
     },
     "execution_count": 23,
     "metadata": {},
     "output_type": "execute_result"
    }
   ],
   "source": [
    "sports2=pd.Series([11,13,12,4], index=['cricket','football','baseball','golf'])\n",
    "sports2"
   ]
  },
  {
   "cell_type": "code",
   "execution_count": 24,
   "metadata": {},
   "outputs": [
    {
     "data": {
      "text/plain": [
       "baseball       NaN\n",
       "basketball     NaN\n",
       "cricket       12.0\n",
       "football      15.0\n",
       "golf           8.0\n",
       "dtype: float64"
      ]
     },
     "execution_count": 24,
     "metadata": {},
     "output_type": "execute_result"
    }
   ],
   "source": [
    "sports1+ sports2 #while adding to dataframes both the datas should be present in each frame\n",
    "                #  else it will show NaN (not a number)"
   ]
  },
  {
   "cell_type": "code",
   "execution_count": 27,
   "metadata": {},
   "outputs": [],
   "source": [
    "import pandas as pd\n",
    "import numpy as np"
   ]
  },
  {
   "cell_type": "code",
   "execution_count": 28,
   "metadata": {},
   "outputs": [
    {
     "data": {
      "text/html": [
       "<div>\n",
       "<style scoped>\n",
       "    .dataframe tbody tr th:only-of-type {\n",
       "        vertical-align: middle;\n",
       "    }\n",
       "\n",
       "    .dataframe tbody tr th {\n",
       "        vertical-align: top;\n",
       "    }\n",
       "\n",
       "    .dataframe thead th {\n",
       "        text-align: right;\n",
       "    }\n",
       "</style>\n",
       "<table border=\"1\" class=\"dataframe\">\n",
       "  <thead>\n",
       "    <tr style=\"text-align: right;\">\n",
       "      <th></th>\n",
       "      <th>Score1</th>\n",
       "      <th>Score2</th>\n",
       "      <th>Score3</th>\n",
       "      <th>Score4</th>\n",
       "      <th>Score5</th>\n",
       "    </tr>\n",
       "  </thead>\n",
       "  <tbody>\n",
       "    <tr>\n",
       "      <th>A</th>\n",
       "      <td>0.388012</td>\n",
       "      <td>0.464448</td>\n",
       "      <td>0.404918</td>\n",
       "      <td>0.014974</td>\n",
       "      <td>0.170711</td>\n",
       "    </tr>\n",
       "    <tr>\n",
       "      <th>B</th>\n",
       "      <td>0.226508</td>\n",
       "      <td>0.502648</td>\n",
       "      <td>0.795855</td>\n",
       "      <td>0.424710</td>\n",
       "      <td>0.794433</td>\n",
       "    </tr>\n",
       "    <tr>\n",
       "      <th>C</th>\n",
       "      <td>0.147171</td>\n",
       "      <td>0.728927</td>\n",
       "      <td>0.331909</td>\n",
       "      <td>0.919542</td>\n",
       "      <td>0.769318</td>\n",
       "    </tr>\n",
       "    <tr>\n",
       "      <th>D</th>\n",
       "      <td>0.990108</td>\n",
       "      <td>0.293854</td>\n",
       "      <td>0.257299</td>\n",
       "      <td>0.768111</td>\n",
       "      <td>0.875412</td>\n",
       "    </tr>\n",
       "    <tr>\n",
       "      <th>E</th>\n",
       "      <td>0.500337</td>\n",
       "      <td>0.212273</td>\n",
       "      <td>0.633963</td>\n",
       "      <td>0.420917</td>\n",
       "      <td>0.145757</td>\n",
       "    </tr>\n",
       "    <tr>\n",
       "      <th>F</th>\n",
       "      <td>0.475957</td>\n",
       "      <td>0.297126</td>\n",
       "      <td>0.996309</td>\n",
       "      <td>0.536054</td>\n",
       "      <td>0.119029</td>\n",
       "    </tr>\n",
       "    <tr>\n",
       "      <th>G</th>\n",
       "      <td>0.186182</td>\n",
       "      <td>0.611233</td>\n",
       "      <td>0.175936</td>\n",
       "      <td>0.351825</td>\n",
       "      <td>0.204238</td>\n",
       "    </tr>\n",
       "    <tr>\n",
       "      <th>H</th>\n",
       "      <td>0.095448</td>\n",
       "      <td>0.266734</td>\n",
       "      <td>0.622901</td>\n",
       "      <td>0.550732</td>\n",
       "      <td>0.192560</td>\n",
       "    </tr>\n",
       "  </tbody>\n",
       "</table>\n",
       "</div>"
      ],
      "text/plain": [
       "     Score1    Score2    Score3    Score4    Score5\n",
       "A  0.388012  0.464448  0.404918  0.014974  0.170711\n",
       "B  0.226508  0.502648  0.795855  0.424710  0.794433\n",
       "C  0.147171  0.728927  0.331909  0.919542  0.769318\n",
       "D  0.990108  0.293854  0.257299  0.768111  0.875412\n",
       "E  0.500337  0.212273  0.633963  0.420917  0.145757\n",
       "F  0.475957  0.297126  0.996309  0.536054  0.119029\n",
       "G  0.186182  0.611233  0.175936  0.351825  0.204238\n",
       "H  0.095448  0.266734  0.622901  0.550732  0.192560"
      ]
     },
     "execution_count": 28,
     "metadata": {},
     "output_type": "execute_result"
    }
   ],
   "source": [
    "df1=pd.DataFrame(np.random.rand(8,5),index='A B C D E F G H'.split(), columns='Score1 Score2 Score3 Score4 Score5'.split())\n",
    "df1           #split() is used bcz we have to split the string \"A B C D E F G H\"\n",
    "              #generates random values b/w 0 and 1 (uniform distribution)"
   ]
  },
  {
   "cell_type": "code",
   "execution_count": 30,
   "metadata": {},
   "outputs": [
    {
     "data": {
      "text/html": [
       "<div>\n",
       "<style scoped>\n",
       "    .dataframe tbody tr th:only-of-type {\n",
       "        vertical-align: middle;\n",
       "    }\n",
       "\n",
       "    .dataframe tbody tr th {\n",
       "        vertical-align: top;\n",
       "    }\n",
       "\n",
       "    .dataframe thead th {\n",
       "        text-align: right;\n",
       "    }\n",
       "</style>\n",
       "<table border=\"1\" class=\"dataframe\">\n",
       "  <thead>\n",
       "    <tr style=\"text-align: right;\">\n",
       "      <th></th>\n",
       "      <th>Score2</th>\n",
       "      <th>Score1</th>\n",
       "      <th>Score5</th>\n",
       "    </tr>\n",
       "  </thead>\n",
       "  <tbody>\n",
       "    <tr>\n",
       "      <th>A</th>\n",
       "      <td>0.464448</td>\n",
       "      <td>0.388012</td>\n",
       "      <td>0.170711</td>\n",
       "    </tr>\n",
       "    <tr>\n",
       "      <th>B</th>\n",
       "      <td>0.502648</td>\n",
       "      <td>0.226508</td>\n",
       "      <td>0.794433</td>\n",
       "    </tr>\n",
       "    <tr>\n",
       "      <th>C</th>\n",
       "      <td>0.728927</td>\n",
       "      <td>0.147171</td>\n",
       "      <td>0.769318</td>\n",
       "    </tr>\n",
       "    <tr>\n",
       "      <th>D</th>\n",
       "      <td>0.293854</td>\n",
       "      <td>0.990108</td>\n",
       "      <td>0.875412</td>\n",
       "    </tr>\n",
       "    <tr>\n",
       "      <th>E</th>\n",
       "      <td>0.212273</td>\n",
       "      <td>0.500337</td>\n",
       "      <td>0.145757</td>\n",
       "    </tr>\n",
       "    <tr>\n",
       "      <th>F</th>\n",
       "      <td>0.297126</td>\n",
       "      <td>0.475957</td>\n",
       "      <td>0.119029</td>\n",
       "    </tr>\n",
       "    <tr>\n",
       "      <th>G</th>\n",
       "      <td>0.611233</td>\n",
       "      <td>0.186182</td>\n",
       "      <td>0.204238</td>\n",
       "    </tr>\n",
       "    <tr>\n",
       "      <th>H</th>\n",
       "      <td>0.266734</td>\n",
       "      <td>0.095448</td>\n",
       "      <td>0.192560</td>\n",
       "    </tr>\n",
       "  </tbody>\n",
       "</table>\n",
       "</div>"
      ],
      "text/plain": [
       "     Score2    Score1    Score5\n",
       "A  0.464448  0.388012  0.170711\n",
       "B  0.502648  0.226508  0.794433\n",
       "C  0.728927  0.147171  0.769318\n",
       "D  0.293854  0.990108  0.875412\n",
       "E  0.212273  0.500337  0.145757\n",
       "F  0.297126  0.475957  0.119029\n",
       "G  0.611233  0.186182  0.204238\n",
       "H  0.266734  0.095448  0.192560"
      ]
     },
     "execution_count": 30,
     "metadata": {},
     "output_type": "execute_result"
    }
   ],
   "source": [
    "df1[['Score2','Score1', 'Score5']]     #taking output"
   ]
  },
  {
   "cell_type": "code",
   "execution_count": 31,
   "metadata": {},
   "outputs": [
    {
     "data": {
      "text/html": [
       "<div>\n",
       "<style scoped>\n",
       "    .dataframe tbody tr th:only-of-type {\n",
       "        vertical-align: middle;\n",
       "    }\n",
       "\n",
       "    .dataframe tbody tr th {\n",
       "        vertical-align: top;\n",
       "    }\n",
       "\n",
       "    .dataframe thead th {\n",
       "        text-align: right;\n",
       "    }\n",
       "</style>\n",
       "<table border=\"1\" class=\"dataframe\">\n",
       "  <thead>\n",
       "    <tr style=\"text-align: right;\">\n",
       "      <th></th>\n",
       "      <th>Score1</th>\n",
       "      <th>Score2</th>\n",
       "      <th>Score3</th>\n",
       "      <th>Score4</th>\n",
       "      <th>Score5</th>\n",
       "      <th>Score6</th>\n",
       "    </tr>\n",
       "  </thead>\n",
       "  <tbody>\n",
       "    <tr>\n",
       "      <th>A</th>\n",
       "      <td>0.388012</td>\n",
       "      <td>0.464448</td>\n",
       "      <td>0.404918</td>\n",
       "      <td>0.014974</td>\n",
       "      <td>0.170711</td>\n",
       "      <td>-0.076436</td>\n",
       "    </tr>\n",
       "    <tr>\n",
       "      <th>B</th>\n",
       "      <td>0.226508</td>\n",
       "      <td>0.502648</td>\n",
       "      <td>0.795855</td>\n",
       "      <td>0.424710</td>\n",
       "      <td>0.794433</td>\n",
       "      <td>-0.276140</td>\n",
       "    </tr>\n",
       "    <tr>\n",
       "      <th>C</th>\n",
       "      <td>0.147171</td>\n",
       "      <td>0.728927</td>\n",
       "      <td>0.331909</td>\n",
       "      <td>0.919542</td>\n",
       "      <td>0.769318</td>\n",
       "      <td>-0.581756</td>\n",
       "    </tr>\n",
       "    <tr>\n",
       "      <th>D</th>\n",
       "      <td>0.990108</td>\n",
       "      <td>0.293854</td>\n",
       "      <td>0.257299</td>\n",
       "      <td>0.768111</td>\n",
       "      <td>0.875412</td>\n",
       "      <td>0.696253</td>\n",
       "    </tr>\n",
       "    <tr>\n",
       "      <th>E</th>\n",
       "      <td>0.500337</td>\n",
       "      <td>0.212273</td>\n",
       "      <td>0.633963</td>\n",
       "      <td>0.420917</td>\n",
       "      <td>0.145757</td>\n",
       "      <td>0.288064</td>\n",
       "    </tr>\n",
       "    <tr>\n",
       "      <th>F</th>\n",
       "      <td>0.475957</td>\n",
       "      <td>0.297126</td>\n",
       "      <td>0.996309</td>\n",
       "      <td>0.536054</td>\n",
       "      <td>0.119029</td>\n",
       "      <td>0.178831</td>\n",
       "    </tr>\n",
       "    <tr>\n",
       "      <th>G</th>\n",
       "      <td>0.186182</td>\n",
       "      <td>0.611233</td>\n",
       "      <td>0.175936</td>\n",
       "      <td>0.351825</td>\n",
       "      <td>0.204238</td>\n",
       "      <td>-0.425050</td>\n",
       "    </tr>\n",
       "    <tr>\n",
       "      <th>H</th>\n",
       "      <td>0.095448</td>\n",
       "      <td>0.266734</td>\n",
       "      <td>0.622901</td>\n",
       "      <td>0.550732</td>\n",
       "      <td>0.192560</td>\n",
       "      <td>-0.171286</td>\n",
       "    </tr>\n",
       "  </tbody>\n",
       "</table>\n",
       "</div>"
      ],
      "text/plain": [
       "     Score1    Score2    Score3    Score4    Score5    Score6\n",
       "A  0.388012  0.464448  0.404918  0.014974  0.170711 -0.076436\n",
       "B  0.226508  0.502648  0.795855  0.424710  0.794433 -0.276140\n",
       "C  0.147171  0.728927  0.331909  0.919542  0.769318 -0.581756\n",
       "D  0.990108  0.293854  0.257299  0.768111  0.875412  0.696253\n",
       "E  0.500337  0.212273  0.633963  0.420917  0.145757  0.288064\n",
       "F  0.475957  0.297126  0.996309  0.536054  0.119029  0.178831\n",
       "G  0.186182  0.611233  0.175936  0.351825  0.204238 -0.425050\n",
       "H  0.095448  0.266734  0.622901  0.550732  0.192560 -0.171286"
      ]
     },
     "execution_count": 31,
     "metadata": {},
     "output_type": "execute_result"
    }
   ],
   "source": [
    "df1['Score6']=df1['Score1']-df1['Score2']   #add new column Score6\n",
    "df1"
   ]
  },
  {
   "cell_type": "code",
   "execution_count": 33,
   "metadata": {},
   "outputs": [
    {
     "data": {
      "text/html": [
       "<div>\n",
       "<style scoped>\n",
       "    .dataframe tbody tr th:only-of-type {\n",
       "        vertical-align: middle;\n",
       "    }\n",
       "\n",
       "    .dataframe tbody tr th {\n",
       "        vertical-align: top;\n",
       "    }\n",
       "\n",
       "    .dataframe thead th {\n",
       "        text-align: right;\n",
       "    }\n",
       "</style>\n",
       "<table border=\"1\" class=\"dataframe\">\n",
       "  <thead>\n",
       "    <tr style=\"text-align: right;\">\n",
       "      <th></th>\n",
       "      <th>Score1</th>\n",
       "      <th>Score2</th>\n",
       "      <th>Score3</th>\n",
       "      <th>Score4</th>\n",
       "      <th>Score6</th>\n",
       "    </tr>\n",
       "  </thead>\n",
       "  <tbody>\n",
       "    <tr>\n",
       "      <th>A</th>\n",
       "      <td>0.388012</td>\n",
       "      <td>0.464448</td>\n",
       "      <td>0.404918</td>\n",
       "      <td>0.014974</td>\n",
       "      <td>-0.076436</td>\n",
       "    </tr>\n",
       "    <tr>\n",
       "      <th>B</th>\n",
       "      <td>0.226508</td>\n",
       "      <td>0.502648</td>\n",
       "      <td>0.795855</td>\n",
       "      <td>0.424710</td>\n",
       "      <td>-0.276140</td>\n",
       "    </tr>\n",
       "    <tr>\n",
       "      <th>C</th>\n",
       "      <td>0.147171</td>\n",
       "      <td>0.728927</td>\n",
       "      <td>0.331909</td>\n",
       "      <td>0.919542</td>\n",
       "      <td>-0.581756</td>\n",
       "    </tr>\n",
       "    <tr>\n",
       "      <th>D</th>\n",
       "      <td>0.990108</td>\n",
       "      <td>0.293854</td>\n",
       "      <td>0.257299</td>\n",
       "      <td>0.768111</td>\n",
       "      <td>0.696253</td>\n",
       "    </tr>\n",
       "    <tr>\n",
       "      <th>E</th>\n",
       "      <td>0.500337</td>\n",
       "      <td>0.212273</td>\n",
       "      <td>0.633963</td>\n",
       "      <td>0.420917</td>\n",
       "      <td>0.288064</td>\n",
       "    </tr>\n",
       "    <tr>\n",
       "      <th>F</th>\n",
       "      <td>0.475957</td>\n",
       "      <td>0.297126</td>\n",
       "      <td>0.996309</td>\n",
       "      <td>0.536054</td>\n",
       "      <td>0.178831</td>\n",
       "    </tr>\n",
       "    <tr>\n",
       "      <th>G</th>\n",
       "      <td>0.186182</td>\n",
       "      <td>0.611233</td>\n",
       "      <td>0.175936</td>\n",
       "      <td>0.351825</td>\n",
       "      <td>-0.425050</td>\n",
       "    </tr>\n",
       "    <tr>\n",
       "      <th>H</th>\n",
       "      <td>0.095448</td>\n",
       "      <td>0.266734</td>\n",
       "      <td>0.622901</td>\n",
       "      <td>0.550732</td>\n",
       "      <td>-0.171286</td>\n",
       "    </tr>\n",
       "  </tbody>\n",
       "</table>\n",
       "</div>"
      ],
      "text/plain": [
       "     Score1    Score2    Score3    Score4    Score6\n",
       "A  0.388012  0.464448  0.404918  0.014974 -0.076436\n",
       "B  0.226508  0.502648  0.795855  0.424710 -0.276140\n",
       "C  0.147171  0.728927  0.331909  0.919542 -0.581756\n",
       "D  0.990108  0.293854  0.257299  0.768111  0.696253\n",
       "E  0.500337  0.212273  0.633963  0.420917  0.288064\n",
       "F  0.475957  0.297126  0.996309  0.536054  0.178831\n",
       "G  0.186182  0.611233  0.175936  0.351825 -0.425050\n",
       "H  0.095448  0.266734  0.622901  0.550732 -0.171286"
      ]
     },
     "execution_count": 33,
     "metadata": {},
     "output_type": "execute_result"
    }
   ],
   "source": [
    "df1.drop('Score5',axis=1)  \n",
    "#drop a column Score5, axis=1 is index used for column & by defualt for row it is 0"
   ]
  },
  {
   "cell_type": "code",
   "execution_count": 34,
   "metadata": {},
   "outputs": [
    {
     "data": {
      "text/html": [
       "<div>\n",
       "<style scoped>\n",
       "    .dataframe tbody tr th:only-of-type {\n",
       "        vertical-align: middle;\n",
       "    }\n",
       "\n",
       "    .dataframe tbody tr th {\n",
       "        vertical-align: top;\n",
       "    }\n",
       "\n",
       "    .dataframe thead th {\n",
       "        text-align: right;\n",
       "    }\n",
       "</style>\n",
       "<table border=\"1\" class=\"dataframe\">\n",
       "  <thead>\n",
       "    <tr style=\"text-align: right;\">\n",
       "      <th></th>\n",
       "      <th>Score1</th>\n",
       "      <th>Score2</th>\n",
       "      <th>Score3</th>\n",
       "      <th>Score4</th>\n",
       "      <th>Score5</th>\n",
       "      <th>Score6</th>\n",
       "    </tr>\n",
       "  </thead>\n",
       "  <tbody>\n",
       "    <tr>\n",
       "      <th>A</th>\n",
       "      <td>0.388012</td>\n",
       "      <td>0.464448</td>\n",
       "      <td>0.404918</td>\n",
       "      <td>0.014974</td>\n",
       "      <td>0.170711</td>\n",
       "      <td>-0.076436</td>\n",
       "    </tr>\n",
       "    <tr>\n",
       "      <th>B</th>\n",
       "      <td>0.226508</td>\n",
       "      <td>0.502648</td>\n",
       "      <td>0.795855</td>\n",
       "      <td>0.424710</td>\n",
       "      <td>0.794433</td>\n",
       "      <td>-0.276140</td>\n",
       "    </tr>\n",
       "    <tr>\n",
       "      <th>C</th>\n",
       "      <td>0.147171</td>\n",
       "      <td>0.728927</td>\n",
       "      <td>0.331909</td>\n",
       "      <td>0.919542</td>\n",
       "      <td>0.769318</td>\n",
       "      <td>-0.581756</td>\n",
       "    </tr>\n",
       "    <tr>\n",
       "      <th>D</th>\n",
       "      <td>0.990108</td>\n",
       "      <td>0.293854</td>\n",
       "      <td>0.257299</td>\n",
       "      <td>0.768111</td>\n",
       "      <td>0.875412</td>\n",
       "      <td>0.696253</td>\n",
       "    </tr>\n",
       "    <tr>\n",
       "      <th>F</th>\n",
       "      <td>0.475957</td>\n",
       "      <td>0.297126</td>\n",
       "      <td>0.996309</td>\n",
       "      <td>0.536054</td>\n",
       "      <td>0.119029</td>\n",
       "      <td>0.178831</td>\n",
       "    </tr>\n",
       "    <tr>\n",
       "      <th>G</th>\n",
       "      <td>0.186182</td>\n",
       "      <td>0.611233</td>\n",
       "      <td>0.175936</td>\n",
       "      <td>0.351825</td>\n",
       "      <td>0.204238</td>\n",
       "      <td>-0.425050</td>\n",
       "    </tr>\n",
       "    <tr>\n",
       "      <th>H</th>\n",
       "      <td>0.095448</td>\n",
       "      <td>0.266734</td>\n",
       "      <td>0.622901</td>\n",
       "      <td>0.550732</td>\n",
       "      <td>0.192560</td>\n",
       "      <td>-0.171286</td>\n",
       "    </tr>\n",
       "  </tbody>\n",
       "</table>\n",
       "</div>"
      ],
      "text/plain": [
       "     Score1    Score2    Score3    Score4    Score5    Score6\n",
       "A  0.388012  0.464448  0.404918  0.014974  0.170711 -0.076436\n",
       "B  0.226508  0.502648  0.795855  0.424710  0.794433 -0.276140\n",
       "C  0.147171  0.728927  0.331909  0.919542  0.769318 -0.581756\n",
       "D  0.990108  0.293854  0.257299  0.768111  0.875412  0.696253\n",
       "F  0.475957  0.297126  0.996309  0.536054  0.119029  0.178831\n",
       "G  0.186182  0.611233  0.175936  0.351825  0.204238 -0.425050\n",
       "H  0.095448  0.266734  0.622901  0.550732  0.192560 -0.171286"
      ]
     },
     "execution_count": 34,
     "metadata": {},
     "output_type": "execute_result"
    }
   ],
   "source": [
    "df1.drop(\"E\", axis=0)\n",
    "#removes row E , here axis =0 may or may not be used bcz it by default 0 for row"
   ]
  },
  {
   "cell_type": "code",
   "execution_count": 35,
   "metadata": {},
   "outputs": [
    {
     "data": {
      "text/html": [
       "<div>\n",
       "<style scoped>\n",
       "    .dataframe tbody tr th:only-of-type {\n",
       "        vertical-align: middle;\n",
       "    }\n",
       "\n",
       "    .dataframe tbody tr th {\n",
       "        vertical-align: top;\n",
       "    }\n",
       "\n",
       "    .dataframe thead th {\n",
       "        text-align: right;\n",
       "    }\n",
       "</style>\n",
       "<table border=\"1\" class=\"dataframe\">\n",
       "  <thead>\n",
       "    <tr style=\"text-align: right;\">\n",
       "      <th></th>\n",
       "      <th>Score1</th>\n",
       "      <th>Score2</th>\n",
       "      <th>Score3</th>\n",
       "      <th>Score4</th>\n",
       "      <th>Score5</th>\n",
       "      <th>Score6</th>\n",
       "    </tr>\n",
       "  </thead>\n",
       "  <tbody>\n",
       "    <tr>\n",
       "      <th>A</th>\n",
       "      <td>0.388012</td>\n",
       "      <td>0.464448</td>\n",
       "      <td>0.404918</td>\n",
       "      <td>0.014974</td>\n",
       "      <td>0.170711</td>\n",
       "      <td>-0.076436</td>\n",
       "    </tr>\n",
       "    <tr>\n",
       "      <th>B</th>\n",
       "      <td>0.226508</td>\n",
       "      <td>0.502648</td>\n",
       "      <td>0.795855</td>\n",
       "      <td>0.424710</td>\n",
       "      <td>0.794433</td>\n",
       "      <td>-0.276140</td>\n",
       "    </tr>\n",
       "    <tr>\n",
       "      <th>C</th>\n",
       "      <td>0.147171</td>\n",
       "      <td>0.728927</td>\n",
       "      <td>0.331909</td>\n",
       "      <td>0.919542</td>\n",
       "      <td>0.769318</td>\n",
       "      <td>-0.581756</td>\n",
       "    </tr>\n",
       "    <tr>\n",
       "      <th>D</th>\n",
       "      <td>0.990108</td>\n",
       "      <td>0.293854</td>\n",
       "      <td>0.257299</td>\n",
       "      <td>0.768111</td>\n",
       "      <td>0.875412</td>\n",
       "      <td>0.696253</td>\n",
       "    </tr>\n",
       "    <tr>\n",
       "      <th>F</th>\n",
       "      <td>0.475957</td>\n",
       "      <td>0.297126</td>\n",
       "      <td>0.996309</td>\n",
       "      <td>0.536054</td>\n",
       "      <td>0.119029</td>\n",
       "      <td>0.178831</td>\n",
       "    </tr>\n",
       "    <tr>\n",
       "      <th>G</th>\n",
       "      <td>0.186182</td>\n",
       "      <td>0.611233</td>\n",
       "      <td>0.175936</td>\n",
       "      <td>0.351825</td>\n",
       "      <td>0.204238</td>\n",
       "      <td>-0.425050</td>\n",
       "    </tr>\n",
       "    <tr>\n",
       "      <th>H</th>\n",
       "      <td>0.095448</td>\n",
       "      <td>0.266734</td>\n",
       "      <td>0.622901</td>\n",
       "      <td>0.550732</td>\n",
       "      <td>0.192560</td>\n",
       "      <td>-0.171286</td>\n",
       "    </tr>\n",
       "  </tbody>\n",
       "</table>\n",
       "</div>"
      ],
      "text/plain": [
       "     Score1    Score2    Score3    Score4    Score5    Score6\n",
       "A  0.388012  0.464448  0.404918  0.014974  0.170711 -0.076436\n",
       "B  0.226508  0.502648  0.795855  0.424710  0.794433 -0.276140\n",
       "C  0.147171  0.728927  0.331909  0.919542  0.769318 -0.581756\n",
       "D  0.990108  0.293854  0.257299  0.768111  0.875412  0.696253\n",
       "F  0.475957  0.297126  0.996309  0.536054  0.119029  0.178831\n",
       "G  0.186182  0.611233  0.175936  0.351825  0.204238 -0.425050\n",
       "H  0.095448  0.266734  0.622901  0.550732  0.192560 -0.171286"
      ]
     },
     "execution_count": 35,
     "metadata": {},
     "output_type": "execute_result"
    }
   ],
   "source": [
    "df1.drop(\"E\")\n",
    "#removes row E , here axis =0 may or may not be used bcz it by default 0 for row"
   ]
  },
  {
   "cell_type": "code",
   "execution_count": 37,
   "metadata": {},
   "outputs": [
    {
     "data": {
      "text/html": [
       "<div>\n",
       "<style scoped>\n",
       "    .dataframe tbody tr th:only-of-type {\n",
       "        vertical-align: middle;\n",
       "    }\n",
       "\n",
       "    .dataframe tbody tr th {\n",
       "        vertical-align: top;\n",
       "    }\n",
       "\n",
       "    .dataframe thead th {\n",
       "        text-align: right;\n",
       "    }\n",
       "</style>\n",
       "<table border=\"1\" class=\"dataframe\">\n",
       "  <thead>\n",
       "    <tr style=\"text-align: right;\">\n",
       "      <th></th>\n",
       "      <th>ID</th>\n",
       "      <th>Name</th>\n",
       "      <th>Profit</th>\n",
       "    </tr>\n",
       "  </thead>\n",
       "  <tbody>\n",
       "    <tr>\n",
       "      <th>0</th>\n",
       "      <td>101</td>\n",
       "      <td>Jackinn</td>\n",
       "      <td>20</td>\n",
       "    </tr>\n",
       "    <tr>\n",
       "      <th>1</th>\n",
       "      <td>102</td>\n",
       "      <td>Mercy</td>\n",
       "      <td>54</td>\n",
       "    </tr>\n",
       "    <tr>\n",
       "      <th>2</th>\n",
       "      <td>103</td>\n",
       "      <td>Alish</td>\n",
       "      <td>56</td>\n",
       "    </tr>\n",
       "    <tr>\n",
       "      <th>3</th>\n",
       "      <td>127</td>\n",
       "      <td>kalvin</td>\n",
       "      <td>87</td>\n",
       "    </tr>\n",
       "    <tr>\n",
       "      <th>4</th>\n",
       "      <td>169</td>\n",
       "      <td>Lally</td>\n",
       "      <td>123</td>\n",
       "    </tr>\n",
       "  </tbody>\n",
       "</table>\n",
       "</div>"
      ],
      "text/plain": [
       "    ID     Name  Profit\n",
       "0  101  Jackinn      20\n",
       "1  102    Mercy      54\n",
       "2  103    Alish      56\n",
       "3  127   kalvin      87\n",
       "4  169    Lally     123"
      ]
     },
     "execution_count": 37,
     "metadata": {},
     "output_type": "execute_result"
    }
   ],
   "source": [
    "df2={'ID':[101,102,103,127,169],'Name':['Jackinn', 'Mercy','Alish','kalvin','Lally'],'Profit':[20,54,56,87,123]}\n",
    "df=pd.DataFrame(df2)\n",
    "df"
   ]
  },
  {
   "cell_type": "markdown",
   "metadata": {},
   "source": [
    "Practice\n",
    "\n",
    "1) Create a null vector of size 10"
   ]
  },
  {
   "cell_type": "markdown",
   "metadata": {},
   "source": [
    "2) Create a null vector of size 10 but the fifth value should be one"
   ]
  },
  {
   "cell_type": "markdown",
   "metadata": {},
   "source": [
    "3) Create a vector with values ranging from 10 to 25"
   ]
  },
  {
   "cell_type": "markdown",
   "metadata": {},
   "source": [
    "4) Reverse the above vector"
   ]
  },
  {
   "cell_type": "markdown",
   "metadata": {},
   "source": [
    "5) Create a 3x3 matrix with values ranging from 0 to 8"
   ]
  },
  {
   "cell_type": "code",
   "execution_count": null,
   "metadata": {},
   "outputs": [],
   "source": []
  },
  {
   "cell_type": "code",
   "execution_count": null,
   "metadata": {},
   "outputs": [],
   "source": [
    "import numpy as np"
   ]
  },
  {
   "cell_type": "code",
   "execution_count": 54,
   "metadata": {},
   "outputs": [
    {
     "data": {
      "text/plain": [
       "array([0., 0., 0., 0., 0., 0., 0., 0., 0., 0.])"
      ]
     },
     "execution_count": 54,
     "metadata": {},
     "output_type": "execute_result"
    }
   ],
   "source": [
    "np.zeros(10)"
   ]
  },
  {
   "cell_type": "code",
   "execution_count": 63,
   "metadata": {},
   "outputs": [
    {
     "data": {
      "text/plain": [
       "array([0., 0., 0., 0., 1., 0., 0., 0., 0., 0.])"
      ]
     },
     "execution_count": 63,
     "metadata": {},
     "output_type": "execute_result"
    }
   ],
   "source": [
    "a=np.zeros(10)\n",
    "a[4]=1; a"
   ]
  },
  {
   "cell_type": "code",
   "execution_count": 69,
   "metadata": {},
   "outputs": [
    {
     "data": {
      "text/plain": [
       "array([10, 11, 12, 13, 14, 15, 16, 17, 18, 19, 20, 21, 22, 23, 24])"
      ]
     },
     "execution_count": 69,
     "metadata": {},
     "output_type": "execute_result"
    }
   ],
   "source": [
    "z=np.arange(10,25)\n",
    "z"
   ]
  },
  {
   "cell_type": "code",
   "execution_count": 70,
   "metadata": {},
   "outputs": [
    {
     "data": {
      "text/plain": [
       "array([24, 23, 22, 21, 20, 19, 18, 17, 16, 15, 14, 13, 12, 11, 10])"
      ]
     },
     "execution_count": 70,
     "metadata": {},
     "output_type": "execute_result"
    }
   ],
   "source": [
    "z[::-1]"
   ]
  },
  {
   "cell_type": "code",
   "execution_count": 68,
   "metadata": {},
   "outputs": [
    {
     "name": "stdout",
     "output_type": "stream",
     "text": [
      "[[0 1 2]\n",
      " [3 4 5]\n",
      " [6 7 8]]\n"
     ]
    }
   ],
   "source": [
    "x=np.arange(0,9).reshape(3,3)\n",
    "print(x)"
   ]
  },
  {
   "cell_type": "markdown",
   "metadata": {},
   "source": [
    "THANK YOU"
   ]
  }
 ],
 "metadata": {
  "kernelspec": {
   "display_name": "Python 3",
   "language": "python",
   "name": "python3"
  },
  "language_info": {
   "codemirror_mode": {
    "name": "ipython",
    "version": 3
   },
   "file_extension": ".py",
   "mimetype": "text/x-python",
   "name": "python",
   "nbconvert_exporter": "python",
   "pygments_lexer": "ipython3",
   "version": "3.8.5"
  }
 },
 "nbformat": 4,
 "nbformat_minor": 4
}
